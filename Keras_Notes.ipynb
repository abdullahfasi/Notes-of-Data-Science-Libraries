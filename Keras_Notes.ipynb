{
  "nbformat": 4,
  "nbformat_minor": 0,
  "metadata": {
    "colab": {
      "provenance": []
    },
    "kernelspec": {
      "name": "python3",
      "display_name": "Python 3"
    },
    "language_info": {
      "name": "python"
    }
  },
  "cells": [
    {
      "cell_type": "markdown",
      "source": [
        "**Keras** is a high-level deep learning API written in Python that is built on top of lower-level frameworks like TensorFlow and Theano. It provides a simple and user-friendly interface to build and train neural networks while abstracting away the complexities of underlying machine learning frameworks."
      ],
      "metadata": {
        "id": "XJiNpmQ28JET"
      }
    },
    {
      "cell_type": "markdown",
      "source": [
        "**Keras Model Types**\n",
        "\n",
        "Keras provides two main types of models:\n",
        "\n",
        "Sequential API: Used for building simple, linear stacks of layers.\n",
        "\n",
        "Functional API: Used for more complex models like multi-input, multi-output, or models with shared layers."
      ],
      "metadata": {
        "id": "pML4xUua8NjB"
      }
    },
    {
      "cell_type": "markdown",
      "source": [
        "The Sequential API is the easiest way to create a neural network where layers are stacked one after another."
      ],
      "metadata": {
        "id": "btftKlm_8TsB"
      }
    },
    {
      "cell_type": "code",
      "execution_count": null,
      "metadata": {
        "id": "0x7-gn1I7fyY"
      },
      "outputs": [],
      "source": [
        "from tensorflow.keras.models import Sequential\n",
        "from tensorflow.keras.layers import Dense\n",
        "\n",
        "# Create a Sequential model\n",
        "model = Sequential()\n",
        "\n",
        "# Add layers\n",
        "model.add(Dense(64, activation='relu', input_shape=(32,)))  # Input layer + 1st hidden layer\n",
        "model.add(Dense(32, activation='relu'))  # 2nd hidden layer\n",
        "model.add(Dense(10, activation='softmax'))  # Output layer\n",
        "\n",
        "# Summary of the model\n",
        "model.summary()"
      ]
    },
    {
      "cell_type": "markdown",
      "source": [
        "n this example, we create a simple feedforward neural network with 2 hidden layers. The Dense layer is a fully connected layer where each neuron is connected to every neuron in the previous layer.\n",
        "\n",
        "Functional API\n",
        "\n",
        "The Functional API allows you to define complex models with multiple inputs/outputs or layers that are connected in non-linear ways."
      ],
      "metadata": {
        "id": "Niq-QnkI8YyR"
      }
    },
    {
      "cell_type": "code",
      "source": [
        "from tensorflow.keras.layers import Input, Dense\n",
        "\n",
        "# Define inputs\n",
        "inputs = Input(shape=(32,))\n",
        "\n",
        "# Define layers\n",
        "x = Dense(64, activation='relu')(inputs)  # First hidden layer\n",
        "x = Dense(32, activation='relu')(x)  # Second hidden layer\n",
        "outputs = Dense(10, activation='softmax')(x)  # Output layer\n",
        "\n",
        "# Create the model\n",
        "model = Model(inputs=inputs, outputs=outputs)\n",
        "\n",
        "# Summary of the model\n",
        "model.summary()"
      ],
      "metadata": {
        "id": "v2psP_Qx8aBy"
      },
      "execution_count": null,
      "outputs": []
    },
    {
      "cell_type": "markdown",
      "source": [
        "This is a more flexible way of building neural networks, which is especially useful for architectures like residual networks, where layers are added non-sequentially."
      ],
      "metadata": {
        "id": "qwICh1Iz8gis"
      }
    },
    {
      "cell_type": "markdown",
      "source": [
        "Layers\n",
        "\n",
        "Layers are the building blocks of neural networks in Keras. They transform input data into output data, often using weights that are updated during training. Some common layers include:\n",
        "\n",
        "Dense: Fully connected layers.\n",
        "\n",
        "Conv2D: Convolutional layers for image data.\n",
        "\n",
        "LSTM: Long Short-Term Memory layers for sequential data."
      ],
      "metadata": {
        "id": "cWuRb_jy8iQx"
      }
    },
    {
      "cell_type": "code",
      "source": [
        "from tensorflow.keras.layers import Dense\n",
        "\n",
        "# A simple Dense layer with 64 units\n",
        "dense_layer = Dense(64, activation='relu', input_shape=(32,))"
      ],
      "metadata": {
        "id": "A4sGweLr8mRo"
      },
      "execution_count": null,
      "outputs": []
    },
    {
      "cell_type": "code",
      "source": [
        "#Example (Conv2D Layer):\n",
        "\n",
        "from tensorflow.keras.layers import Conv2D\n",
        "\n",
        "# A 2D convolutional layer with 32 filters and a kernel size of 3x3\n",
        "conv_layer = Conv2D(32, kernel_size=(3, 3), activation='relu', input_shape=(64, 64, 3))"
      ],
      "metadata": {
        "id": "MWYjR3kE8on5"
      },
      "execution_count": null,
      "outputs": []
    },
    {
      "cell_type": "markdown",
      "source": [
        "Compiling the Model\n",
        "\n",
        "After defining a model, it needs to be compiled. The compilation step specifies:\n",
        "\n",
        "\n",
        "1.   Loss function: Defines how the model’s performance is evaluated.\n",
        "2.   Common choices: mean_squared_error for regression, categorical_crossentropy for classification.\n",
        "3.   Optimizer: Determines how the model's parameters are updated.\n",
        "Common optimizers: SGD, Adam.\n",
        "4.   Metrics: Additional measures to track during training and evaluation (e.g., accuracy).\n",
        "\n",
        "\n",
        "\n",
        "\n"
      ],
      "metadata": {
        "id": "nN3gBu6s8s1J"
      }
    },
    {
      "cell_type": "code",
      "source": [
        "# Compile the model\n",
        "model.compile(optimizer='adam',\n",
        "              loss='categorical_crossentropy',\n",
        "              metrics=['accuracy'])"
      ],
      "metadata": {
        "id": "-iDQao1O89hi"
      },
      "execution_count": null,
      "outputs": []
    },
    {
      "cell_type": "markdown",
      "source": [
        "Training the Model\n",
        "\n",
        "The fit() function is used to train the model on a dataset. You need to pass the training data, the target labels, and some training parameters (e.g., batch size and number of epochs)."
      ],
      "metadata": {
        "id": "FnmuOORa9Brx"
      }
    },
    {
      "cell_type": "code",
      "source": [
        "import numpy as np\n",
        "\n",
        "# Dummy data\n",
        "X_train = np.random.rand(1000, 32)  # 1000 samples, each with 32 features\n",
        "y_train = np.random.randint(10, size=(1000,))  # 1000 labels (for 10 classes)\n",
        "\n",
        "# One-hot encoding of labels\n",
        "y_train = np.eye(10)[y_train]\n",
        "\n",
        "# Train the model\n",
        "model.fit(X_train, y_train, epochs=10, batch_size=32)"
      ],
      "metadata": {
        "id": "LHLtzAa29EZR"
      },
      "execution_count": null,
      "outputs": []
    },
    {
      "cell_type": "markdown",
      "source": [
        "In this example, we use the fit() method to train the model for 10 epochs with a batch size of 32. X_train contains the input features, and y_train contains the one-hot encoded target labels."
      ],
      "metadata": {
        "id": "iFC8CYYy9GT5"
      }
    },
    {
      "cell_type": "markdown",
      "source": [
        "Evaluating the Model\n",
        "\n",
        "After training, you can evaluate the model on a test set using the evaluate() method."
      ],
      "metadata": {
        "id": "ToC4l_-H9H5C"
      }
    },
    {
      "cell_type": "code",
      "source": [
        "# Dummy test data\n",
        "X_test = np.random.rand(200, 32)\n",
        "y_test = np.random.randint(10, size=(200,))\n",
        "y_test = np.eye(10)[y_test]\n",
        "\n",
        "# Evaluate the model\n",
        "loss, accuracy = model.evaluate(X_test, y_test)\n",
        "print(f\"Test loss: {loss}\")\n",
        "print(f\"Test accuracy: {accuracy}\")"
      ],
      "metadata": {
        "id": "ws_f_-JL9LEy"
      },
      "execution_count": null,
      "outputs": []
    },
    {
      "cell_type": "markdown",
      "source": [
        "Here, evaluate() returns the test loss and accuracy on unseen data."
      ],
      "metadata": {
        "id": "9TqgEYUH9NWD"
      }
    },
    {
      "cell_type": "markdown",
      "source": [
        " Making Predictions\n",
        "\n",
        "The predict() method is used to generate predictions from the model."
      ],
      "metadata": {
        "id": "vrTy4g8j9PAR"
      }
    },
    {
      "cell_type": "code",
      "source": [
        "# Make predictions on new data\n",
        "X_new = np.random.rand(5, 32)  # 5 new samples\n",
        "predictions = model.predict(X_new)\n",
        "\n",
        "print(predictions)"
      ],
      "metadata": {
        "id": "9wBH5DqG9Q2Y"
      },
      "execution_count": null,
      "outputs": []
    },
    {
      "cell_type": "markdown",
      "source": [
        "In this case, the model predicts the probabilities for each of the 10 output classes for the 5 new samples."
      ],
      "metadata": {
        "id": "8LBZ5MOf9SdJ"
      }
    },
    {
      "cell_type": "markdown",
      "source": [
        " Callbacks\n",
        "\n",
        "Keras provides callbacks, which are functions that can be applied during training to monitor and adjust the training process. Some common callbacks include:\n",
        "\n",
        "1.  EarlyStopping: Stops training if the model’s performance on the validation set stops improving.\n",
        "2.  ModelCheckpoint: Saves the model during training.\n",
        "\n",
        "Example (EarlyStopping and ModelCheckpoint):"
      ],
      "metadata": {
        "id": "n9Q9gaZl9Uu6"
      }
    },
    {
      "cell_type": "code",
      "source": [
        "from tensorflow.keras.callbacks import EarlyStopping, ModelCheckpoint\n",
        "\n",
        "# Define callbacks\n",
        "early_stopping = EarlyStopping(monitor='val_loss', patience=3)\n",
        "model_checkpoint = ModelCheckpoint('best_model.h5', save_best_only=True)\n",
        "\n",
        "# Train the model with callbacks\n",
        "model.fit(X_train, y_train, epochs=10, batch_size=32,\n",
        "          validation_split=0.2, callbacks=[early_stopping, model_checkpoint])"
      ],
      "metadata": {
        "id": "ThdfIaMh9eug"
      },
      "execution_count": null,
      "outputs": []
    },
    {
      "cell_type": "markdown",
      "source": [
        "Here, the training will stop early if the validation loss doesn’t improve for 3 consecutive epochs, and the best model will be saved to 'best_model.h5'."
      ],
      "metadata": {
        "id": "3R7c-PGY9gOo"
      }
    },
    {
      "cell_type": "markdown",
      "source": [
        " Preprocessing\n",
        "\n",
        "Keras provides several utilities for preprocessing data. For instance, the ImageDataGenerator class can be used to perform data augmentation on images, which helps to increase the diversity of the training set."
      ],
      "metadata": {
        "id": "hE6YFEgc9iqo"
      }
    },
    {
      "cell_type": "code",
      "source": [
        "from tensorflow.keras.preprocessing.image import ImageDataGenerator\n",
        "\n",
        "# Create an ImageDataGenerator object for augmentation\n",
        "datagen = ImageDataGenerator(rotation_range=20, width_shift_range=0.2, height_shift_range=0.2, horizontal_flip=True)\n",
        "\n",
        "# Fit the generator on the training data\n",
        "datagen.fit(X_train)\n",
        "\n",
        "# Use the augmented data during training\n",
        "model.fit(datagen.flow(X_train, y_train, batch_size=32), epochs=10)"
      ],
      "metadata": {
        "id": "B7mhe5BR9lvR"
      },
      "execution_count": null,
      "outputs": []
    },
    {
      "cell_type": "markdown",
      "source": [
        "Transfer Learning\n",
        "\n",
        "In transfer learning, a pre-trained model (such as VGG16, ResNet) is used as a starting point, and then it is fine-tuned on a new dataset. This is particularly useful when you have a small dataset but want to benefit from a model trained on a large dataset like ImageNet."
      ],
      "metadata": {
        "id": "D2w-7Wdd9oNR"
      }
    },
    {
      "cell_type": "code",
      "source": [
        "from tensorflow.keras.applications import VGG16\n",
        "from tensorflow.keras.models import Model\n",
        "from tensorflow.keras.layers import Dense, Flatten\n",
        "\n",
        "# Load pre-trained VGG16 model\n",
        "base_model = VGG16(weights='imagenet', include_top=False, input_shape=(224, 224, 3))\n",
        "\n",
        "# Freeze the convolutional base\n",
        "for layer in base_model.layers:\n",
        "    layer.trainable = False\n",
        "\n",
        "# Add custom classification layers on top\n",
        "x = Flatten()(base_model.output)\n",
        "x = Dense(128, activation='relu')(x)\n",
        "output = Dense(10, activation='softmax')(x)\n",
        "\n",
        "# Create the new model\n",
        "model = Model(inputs=base_model.input, outputs=output)\n",
        "\n",
        "# Compile and train the model\n",
        "model.compile(optimizer='adam', loss='categorical_crossentropy', metrics=['accuracy'])\n"
      ],
      "metadata": {
        "id": "oCZrz77I9rBp"
      },
      "execution_count": null,
      "outputs": []
    },
    {
      "cell_type": "markdown",
      "source": [
        "Here, the convolutional base of the VGG16 model is frozen (i.e., its weights are not updated), and new layers are added for a custom classification task."
      ],
      "metadata": {
        "id": "G4ofg2LJ9tFq"
      }
    },
    {
      "cell_type": "markdown",
      "source": [
        "Saving and Loading Models\n",
        "\n",
        "Keras models can be saved and loaded easily using the save() and load_model() functions."
      ],
      "metadata": {
        "id": "POq-p0iU9vDo"
      }
    },
    {
      "cell_type": "code",
      "source": [
        "# Save the entire model to a file\n",
        "model.save('my_model.h5')"
      ],
      "metadata": {
        "id": "piSdqBE196PY"
      },
      "execution_count": null,
      "outputs": []
    },
    {
      "cell_type": "code",
      "source": [
        "from tensorflow.keras.models import load_model\n",
        "\n",
        "# Load the model from a file\n",
        "model = load_model('my_model.h5')\n",
        "\n",
        "# Now the model can be used for inference or further training\n",
        "predictions = model.predict(X_new)"
      ],
      "metadata": {
        "id": "9P1VYJPD98Fl"
      },
      "execution_count": null,
      "outputs": []
    }
  ]
}