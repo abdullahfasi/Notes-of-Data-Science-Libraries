{
  "nbformat": 4,
  "nbformat_minor": 0,
  "metadata": {
    "colab": {
      "provenance": []
    },
    "kernelspec": {
      "name": "python3",
      "display_name": "Python 3"
    },
    "language_info": {
      "name": "python"
    }
  },
  "cells": [
    {
      "cell_type": "markdown",
      "source": [
        "Tensors\n",
        "\n",
        "In TensorFlow, data is represented as multi-dimensional arrays or matrices called tensors. Tensors are the core building blocks of TensorFlow."
      ],
      "metadata": {
        "id": "wM7IPP1VN1yu"
      }
    },
    {
      "cell_type": "code",
      "execution_count": null,
      "metadata": {
        "id": "2hgi-2iJBFeK"
      },
      "outputs": [],
      "source": [
        "import tensorflow as tf\n",
        "\n",
        "# Create a constant tensor\n",
        "tensor = tf.constant([[1, 2, 3], [4, 5, 6]])\n",
        "\n",
        "print(tensor)"
      ]
    },
    {
      "cell_type": "markdown",
      "source": [
        "Output\n",
        "\n",
        "tf.Tensor(\n",
        "\n",
        "[[1 2 3]\n",
        "\n",
        " [4 5 6]],\n",
        " shape=(2, 3)"
      ],
      "metadata": {
        "id": "PtTQcut_OBRC"
      }
    },
    {
      "cell_type": "markdown",
      "source": [
        "Variables\n",
        "\n",
        "A Variable in TensorFlow is a tensor whose value can be changed during execution. They are typically used for storing parameters (e.g., weights and biases) in machine learning models."
      ],
      "metadata": {
        "id": "gk_KiduPOQqs"
      }
    },
    {
      "cell_type": "code",
      "source": [
        "var = tf.Variable([[1.0, 2.0], [3.0, 4.0]])\n",
        "\n",
        "print(var)\n",
        "Output:\n",
        "\n",
        "#<tf.Variable 'Variable:0' shape=(2, 2) dtype=float32, numpy=\n",
        "#array([[1., 2.],\n",
        "#       [3., 4.]], dtype=float32)>"
      ],
      "metadata": {
        "id": "OefoGl_fOVqn"
      },
      "execution_count": null,
      "outputs": []
    },
    {
      "cell_type": "markdown",
      "source": [
        " Operations\n",
        "\n",
        "TensorFlow allows you to perform a variety of operations on tensors, such as addition, multiplication, matrix multiplication, etc."
      ],
      "metadata": {
        "id": "_vQvLvCbOb-t"
      }
    },
    {
      "cell_type": "code",
      "source": [
        "a = tf.constant([[1, 2], [3, 4]])\n",
        "b = tf.constant([[5, 6], [7, 8]])\n",
        "\n",
        "# Matrix multiplication\n",
        "result = tf.matmul(a, b)\n",
        "\n",
        "print(result)\n",
        "#Output:\n",
        "\n",
        "#tf.Tensor(\n",
        "#[[19 22]\n",
        "# [43 50]], shape=(2, 2), dtype=int32)"
      ],
      "metadata": {
        "id": "7NBxVYBsOhgl"
      },
      "execution_count": null,
      "outputs": []
    },
    {
      "cell_type": "markdown",
      "source": [
        "Gradient Descent and Auto-Differentiation\n",
        "\n",
        "In machine learning, gradient descent is used to minimize the loss function. TensorFlow’s tf.GradientTape() automatically computes gradients for you."
      ],
      "metadata": {
        "id": "eTJLABbrOwmV"
      }
    },
    {
      "cell_type": "markdown",
      "source": [
        "he line with tf.GradientTape() as tape: in TensorFlow creates a context manager called tape that records operations performed within its scope"
      ],
      "metadata": {
        "id": "MDU2kX53PaOW"
      }
    },
    {
      "cell_type": "code",
      "source": [
        "# Example function: y = x^2\n",
        "x = tf.Variable(3.0)\n",
        "\n",
        "# Use GradientTape to compute the gradient of y = x^2 with respect to x\n",
        "with tf.GradientTape() as tape:\n",
        "    y = x**2\n",
        "\n",
        "# Compute the gradient of y with respect to x\n",
        "grad = tape.gradient(y, x)\n",
        "\n",
        "print(grad)  # Output: 6.0"
      ],
      "metadata": {
        "id": "AnYZCJM_OzGt"
      },
      "execution_count": null,
      "outputs": []
    },
    {
      "cell_type": "markdown",
      "source": [
        "Neural Network Layers (Keras API)\n",
        "\n",
        "TensorFlow includes tf.keras, which is a high-level API for building neural networks. You can define neural networks using layers, compile the model, and train i"
      ],
      "metadata": {
        "id": "sgOV9zpdP5KF"
      }
    },
    {
      "cell_type": "code",
      "source": [
        "from tensorflow.keras import layers, models\n",
        "\n",
        "# Create a simple Sequential model\n",
        "model = models.Sequential()\n",
        "\n",
        "# Add layers\n",
        "model.add(layers.Dense(128, activation='relu', input_shape=(784,)))\n",
        "model.add(layers.Dense(10, activation='softmax'))\n",
        "\n",
        "# Compile the model\n",
        "model.compile(optimizer='adam', loss='sparse_categorical_crossentropy', metrics=['accuracy'])\n",
        "\n",
        "# Print model summary\n",
        "model.summary()"
      ],
      "metadata": {
        "id": "nBkSwRh9QAly"
      },
      "execution_count": null,
      "outputs": []
    },
    {
      "cell_type": "markdown",
      "source": [
        " Training a Model\n",
        "\n",
        "TensorFlow provides built-in functions to fit your model on training data and evaluate it on test data."
      ],
      "metadata": {
        "id": "ak5qaansQVdI"
      }
    },
    {
      "cell_type": "code",
      "source": [
        "# Dummy data\n",
        "import numpy as np\n",
        "X_train = np.random.rand(100, 784)\n",
        "y_train = np.random.randint(0, 10, 100)\n",
        "\n",
        "# Train the model\n",
        "model.fit(X_train, y_train, epochs=5, batch_size=32)"
      ],
      "metadata": {
        "id": "HRR3TeruQZvm"
      },
      "execution_count": null,
      "outputs": []
    },
    {
      "cell_type": "markdown",
      "source": [
        "Saving and Loading Models\n",
        "\n",
        "You can save a trained model in TensorFlow and load it later for inference.\n",
        "\n",
        "Example (Saving a model):\n",
        "\n",
        "# Save the model\n"
      ],
      "metadata": {
        "id": "KCdat5ojQeWt"
      }
    },
    {
      "cell_type": "code",
      "source": [
        "model.save('my_model.h5')\n",
        "Example (Loading a model):"
      ],
      "metadata": {
        "id": "mzeHD1DcQj3l"
      },
      "execution_count": null,
      "outputs": []
    },
    {
      "cell_type": "markdown",
      "source": [
        "# Load the model\n",
        "\n"
      ],
      "metadata": {
        "id": "Tk-5_n3WQtbt"
      }
    },
    {
      "cell_type": "code",
      "source": [
        "new_model = tf.keras.models.load_model('my_model.h5')"
      ],
      "metadata": {
        "id": "N7iifFdcQvIF"
      },
      "execution_count": null,
      "outputs": []
    },
    {
      "cell_type": "markdown",
      "source": [
        "\n",
        "# Use the model for inference\n"
      ],
      "metadata": {
        "id": "nbuU2ZSRQ0q1"
      }
    },
    {
      "cell_type": "code",
      "source": [
        "predictions = new_model.predict(X_train)"
      ],
      "metadata": {
        "id": "aAFWzxCHQ115"
      },
      "execution_count": null,
      "outputs": []
    },
    {
      "cell_type": "markdown",
      "source": [
        "Dataset API\n",
        "\n",
        "The tf.data API is a powerful utility for loading and processing large datasets efficiently. It can handle everything from reading data from disk to performing transformations such as shuffling and batching.\n",
        "\n",
        "# Create a dataset from a numpy array\n",
        "\n"
      ],
      "metadata": {
        "id": "Dk6bqqsWQ4pu"
      }
    },
    {
      "cell_type": "code",
      "source": [
        "dataset = tf.data.Dataset.from_tensor_slices((X_train, y_train))"
      ],
      "metadata": {
        "id": "mmmHtb0gQ-ht"
      },
      "execution_count": null,
      "outputs": []
    },
    {
      "cell_type": "markdown",
      "source": [
        "\n",
        "# Shuffle and batch the dataset\n"
      ],
      "metadata": {
        "id": "DiOpS8sYRBEO"
      }
    },
    {
      "cell_type": "code",
      "source": [
        "dataset = dataset.shuffle(buffer_size=1024).batch(32)\n",
        "\n"
      ],
      "metadata": {
        "id": "AZnzb61XRC7t"
      },
      "execution_count": null,
      "outputs": []
    },
    {
      "cell_type": "markdown",
      "source": [
        "# Iterate through the dataset\n"
      ],
      "metadata": {
        "id": "wKxhuuiBRETe"
      }
    },
    {
      "cell_type": "code",
      "source": [
        "for batch in dataset:\n",
        "    print(batch)"
      ],
      "metadata": {
        "id": "-S83TKV5RFpd"
      },
      "execution_count": null,
      "outputs": []
    },
    {
      "cell_type": "markdown",
      "source": [
        "Custom Training Loops\n",
        "\n",
        "For more complex models, TensorFlow allows you to write custom training loops using tf.GradientTape() for more fine-grained control over the training process.\n"
      ],
      "metadata": {
        "id": "_xnLpE4xRX4N"
      }
    },
    {
      "cell_type": "code",
      "source": [
        "# A simple custom training loop\n",
        "epochs = 3\n",
        "for epoch in range(epochs):\n",
        "    with tf.GradientTape() as tape:\n",
        "        predictions = model(X_train)\n",
        "        loss = tf.reduce_mean(tf.keras.losses.sparse_categorical_crossentropy(y_train, predictions))\n",
        "\n",
        "    # Compute gradients\n",
        "    gradients = tape.gradient(loss, model.trainable_variables)\n",
        "\n",
        "    # Update model weights\n",
        "    optimizer = tf.keras.optimizers.Adam()\n",
        "    optimizer.apply_gradients(zip(gradients, model.trainable_variables))\n",
        "\n",
        "    print(f'Epoch {epoch+1}, Loss: {loss.numpy()}')\n",
        ""
      ],
      "metadata": {
        "id": "gc5MqQdjRciI"
      },
      "execution_count": null,
      "outputs": []
    },
    {
      "cell_type": "markdown",
      "source": [
        "Distributed Training\n",
        "\n",
        "TensorFlow provides support for distributed training, allowing you to train models on multiple devices (like GPUs or TPUs) with ease.\n",
        "\n"
      ],
      "metadata": {
        "id": "gwf7RWwxRyLH"
      }
    },
    {
      "cell_type": "code",
      "source": [
        "# Create a mirrored strategy for distributed training\n",
        "strategy = tf.distribute.MirroredStrategy()\n",
        "\n",
        "with strategy.scope():\n",
        "    # Build and compile the model inside the strategy's scope\n",
        "    model = models.Sequential()\n",
        "    model.add(layers.Dense(128, activation='relu', input_shape=(784,)))\n",
        "    model.add(layers.Dense(10, activation='softmax'))\n",
        "\n",
        "    model.compile(optimizer='adam', loss='sparse_categorical_crossentropy', metrics=['accuracy'])\n",
        "\n",
        "# Train the model\n",
        "model.fit(X_train, y_train, epochs=5)"
      ],
      "metadata": {
        "id": "HoTIU_hIR3AW"
      },
      "execution_count": null,
      "outputs": []
    }
  ]
}